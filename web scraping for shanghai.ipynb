{
 "cells": [
  {
   "cell_type": "code",
   "execution_count": 1,
   "id": "8a9c4a39",
   "metadata": {},
   "outputs": [],
   "source": [
    "from selenium import webdriver\n",
    "from selenium.webdriver.common.by import By\n",
    "from selenium.webdriver.common.keys import Keys\n",
    "from selenium.webdriver.support import expected_conditions as EC\n",
    "from selenium.webdriver.support.wait import WebDriverWait\n",
    "from selenium.webdriver.chrome.options import Options\n",
    "from selenium.webdriver.chrome.service import Service\n",
    "from selenium.webdriver.support.ui import WebDriverWait\n",
    "# from webdriver_manager.chrome import ChromeDriverManager\n",
    "import time\n",
    "import pandas as pd\n",
    "import pprint\n",
    "import itertools\n",
    "\n",
    "def wait():\n",
    "    time.sleep(3)\n",
    "def long_wait():\n",
    "    time.sleep(5)\n",
    "\n",
    "        \n",
    "def click_cnci(driver):\n",
    "    try:\n",
    "        button = driver.find_element(By.XPATH, '//*[@id=\"content-box\"]//th[5]//img')\n",
    "        button.click()\n",
    "        long_wait()\n",
    "        cnci = driver.find_element(By.XPATH, '//li[text()=\"CNCI\"]')\n",
    "        cnci.click()\n",
    "        wait()\n",
    "    except Exception as e:\n",
    "        print(\"cnci button not found\")\n",
    "\n",
    "def click_top(driver):\n",
    "    try:\n",
    "        button = driver.find_element(By.XPATH, '//*[@id=\"content-box\"]//th[5]//img')\n",
    "        button.click()\n",
    "        long_wait()\n",
    "        top = driver.find_element(By.XPATH, '//li[text()=\"TOP\"]')\n",
    "        top.click()\n",
    "        wait()\n",
    "    except Exception as e:\n",
    "        print(\"top button not found\")\n",
    "        \n",
    "def click_award(driver):\n",
    "    try:\n",
    "        button = driver.find_element(By.XPATH, '//*[@id=\"content-box\"]//th[5]//img')\n",
    "        button.click()\n",
    "        long_wait()\n",
    "        top = driver.find_element(By.XPATH, '//li[text()=\"AWARD\"]')\n",
    "        top.click()\n",
    "        wait()\n",
    "    except Exception as e:\n",
    "        print(\"award button not found\") "
   ]
  },
  {
   "cell_type": "code",
   "execution_count": 2,
   "id": "1f6acf22",
   "metadata": {},
   "outputs": [],
   "source": [
    "def setup():\n",
    "    chrome_options = Options()\n",
    "    chrome_options.add_argument('--no-sandbox')\n",
    "    chrome_options.add_argument('--disable-dev-shm-usage')\n",
    "    prefs = {\"download.default_directory\": \"\"}\n",
    "    chrome_options.add_experimental_option(\"prefs\", prefs)\n",
    "    driver = webdriver.Chrome(options=chrome_options)\n",
    "    driver.get(\"https://www.shanghairanking.com/rankings/gras/2022/RS0210\")\n",
    "    driver.maximize_window()\n",
    "    long_wait()\n",
    "#   select_all_entries(driver)\n",
    "    return driver"
   ]
  },
  {
   "cell_type": "code",
   "execution_count": 3,
   "id": "9202e8b0",
   "metadata": {},
   "outputs": [],
   "source": [
    "df_columns = [\"Rank\", \"Name\", \"CNCI\", \"TOP\", \"AWARD\"]\n",
    "df = pd.DataFrame(columns=df_columns)"
   ]
  },
  {
   "cell_type": "code",
   "execution_count": 4,
   "id": "87209321",
   "metadata": {},
   "outputs": [],
   "source": [
    "driver = setup()\n",
    "# click_award(driver)\n",
    "# click_cnci(driver)\n"
   ]
  },
  {
   "cell_type": "code",
   "execution_count": 5,
   "id": "093d8d8b",
   "metadata": {},
   "outputs": [],
   "source": [
    "def extract_ranks(driver):\n",
    "    university_ranks = []\n",
    "\n",
    "    while True:\n",
    "        rows = driver.find_elements(By.XPATH, '//tr[@data-v-ae1ab4a8=\"\"]')\n",
    "\n",
    "        for row in rows:\n",
    "            university_rank_elements = row.find_elements(By.XPATH, './/div[contains(@class, \"ranking\")]')\n",
    "            for element in university_rank_elements:\n",
    "                university_rank = element.text.strip()\n",
    "                university_ranks.append(university_rank)\n",
    "\n",
    "        try:\n",
    "            next_page_button = driver.find_element(By.XPATH, '//li[@title=\"下一页\"]')\n",
    "            if next_page_button.get_attribute('aria-disabled') == 'true':\n",
    "                print(\"Next Page button is not clickable. Stopping loop.\")\n",
    "                break\n",
    "            next_page_button.click()\n",
    "            wait()\n",
    "        except NoSuchElementException:\n",
    "            print(\"No more pages available.\")\n",
    "            break\n",
    "\n",
    "    return university_ranks"
   ]
  },
  {
   "cell_type": "code",
   "execution_count": 6,
   "id": "e5397876",
   "metadata": {},
   "outputs": [
    {
     "name": "stdout",
     "output_type": "stream",
     "text": [
      "Next Page button is not clickable. Stopping loop.\n",
      "['1', '2', '3', '4', '5', '6', '7', '8', '9', '10', '11', '12', '13', '14', '15', '16', '17', '18', '19', '20', '21', '22', '23', '24', '25', '26', '26', '28', '29', '30', '31', '32', '33', '34', '35', '36', '37', '38', '39', '40', '41', '42', '43', '44', '45', '46', '47', '48', '49', '50', '51-75', '51-75', '51-75', '51-75', '51-75', '51-75', '51-75', '51-75', '51-75', '51-75', '51-75', '51-75', '51-75', '51-75', '51-75', '51-75', '51-75', '51-75', '51-75', '51-75', '51-75', '51-75', '51-75', '51-75', '51-75', '76-100', '76-100', '76-100', '76-100', '76-100', '76-100', '76-100', '76-100', '76-100', '76-100', '76-100', '76-100', '76-100', '76-100', '76-100', '76-100', '76-100', '76-100', '76-100', '76-100', '76-100', '76-100', '76-100', '76-100', '76-100', '101-150', '101-150', '101-150', '101-150', '101-150', '101-150', '101-150', '101-150', '101-150', '101-150', '101-150', '101-150', '101-150', '101-150', '101-150', '101-150', '101-150', '101-150', '101-150', '101-150', '101-150', '101-150', '101-150', '101-150', '101-150', '101-150', '101-150', '101-150', '101-150', '101-150', '101-150', '101-150', '101-150', '101-150', '101-150', '101-150', '101-150', '101-150', '101-150', '101-150', '101-150', '101-150', '101-150', '101-150', '101-150', '101-150', '101-150', '101-150', '101-150', '101-150', '151-200', '151-200', '151-200', '151-200', '151-200', '151-200', '151-200', '151-200', '151-200', '151-200', '151-200', '151-200', '151-200', '151-200', '151-200', '151-200', '151-200', '151-200', '151-200', '151-200', '151-200', '151-200', '151-200', '151-200', '151-200', '151-200', '151-200', '151-200', '151-200', '151-200', '151-200', '151-200', '151-200', '151-200', '151-200', '151-200', '151-200', '151-200', '151-200', '151-200', '151-200', '151-200', '151-200', '151-200', '151-200', '151-200', '151-200', '151-200', '151-200', '151-200', '201-300', '201-300', '201-300', '201-300', '201-300', '201-300', '201-300', '201-300', '201-300', '201-300', '201-300', '201-300', '201-300', '201-300', '201-300', '201-300', '201-300', '201-300', '201-300', '201-300', '201-300', '201-300', '201-300', '201-300', '201-300', '201-300', '201-300', '201-300', '201-300', '201-300', '201-300', '201-300', '201-300', '201-300', '201-300', '201-300', '201-300', '201-300', '201-300', '201-300', '201-300', '201-300', '201-300', '201-300', '201-300', '201-300', '201-300', '201-300', '201-300', '201-300', '201-300', '201-300', '201-300', '201-300', '201-300', '201-300', '201-300', '201-300', '201-300', '201-300', '201-300', '201-300', '201-300', '201-300', '201-300', '201-300', '201-300', '201-300', '201-300', '201-300', '201-300', '201-300', '201-300', '201-300', '201-300', '201-300', '201-300', '201-300', '201-300', '201-300', '201-300', '201-300', '201-300', '201-300', '201-300', '201-300', '201-300', '201-300', '201-300', '201-300', '201-300', '201-300', '201-300', '201-300', '201-300', '201-300', '201-300', '201-300', '201-300', '201-300', '301-400', '301-400', '301-400', '301-400', '301-400', '301-400', '301-400', '301-400', '301-400', '301-400', '301-400', '301-400', '301-400', '301-400', '301-400', '301-400', '301-400', '301-400', '301-400', '301-400', '301-400', '301-400', '301-400', '301-400', '301-400', '301-400', '301-400', '301-400', '301-400', '301-400', '301-400', '301-400', '301-400', '301-400', '301-400', '301-400', '301-400', '301-400', '301-400', '301-400', '301-400', '301-400', '301-400', '301-400', '301-400', '301-400', '301-400', '301-400', '301-400', '301-400', '301-400', '301-400', '301-400', '301-400', '301-400', '301-400', '301-400', '301-400', '301-400', '301-400', '301-400', '301-400', '301-400', '301-400', '301-400', '301-400', '301-400', '301-400', '301-400', '301-400', '301-400', '301-400', '301-400', '301-400', '301-400', '301-400', '301-400', '301-400', '301-400', '301-400', '301-400', '301-400', '301-400', '301-400', '301-400', '301-400', '301-400', '301-400', '301-400', '301-400', '301-400', '301-400', '301-400', '301-400', '301-400', '301-400', '301-400', '301-400', '301-400', '301-400', '401-500', '401-500', '401-500', '401-500', '401-500', '401-500', '401-500', '401-500', '401-500', '401-500', '401-500', '401-500', '401-500', '401-500', '401-500', '401-500', '401-500', '401-500', '401-500', '401-500', '401-500', '401-500', '401-500', '401-500', '401-500', '401-500', '401-500', '401-500', '401-500', '401-500', '401-500', '401-500', '401-500', '401-500', '401-500', '401-500', '401-500', '401-500', '401-500', '401-500', '401-500', '401-500', '401-500', '401-500', '401-500', '401-500', '401-500', '401-500', '401-500', '401-500', '401-500', '401-500', '401-500', '401-500', '401-500', '401-500', '401-500', '401-500', '401-500', '401-500', '401-500', '401-500', '401-500', '401-500', '401-500', '401-500', '401-500', '401-500', '401-500', '401-500', '401-500', '401-500', '401-500', '401-500', '401-500', '401-500', '401-500', '401-500', '401-500', '401-500', '401-500', '401-500', '401-500', '401-500', '401-500', '401-500', '401-500', '401-500', '401-500', '401-500', '401-500', '401-500', '401-500', '401-500', '401-500', '401-500', '401-500', '401-500', '401-500', '401-500']\n"
     ]
    }
   ],
   "source": [
    "rank= extract_ranks(driver)\n",
    "print(rank)"
   ]
  },
  {
   "cell_type": "code",
   "execution_count": 7,
   "id": "ccd60b05",
   "metadata": {},
   "outputs": [],
   "source": [
    "def extract_names(driver):\n",
    "    university_names = []\n",
    "    while True:\n",
    "        rows = driver.find_elements(By.XPATH, '//tr[@data-v-ae1ab4a8=\"\"]')\n",
    "        for row in rows:\n",
    "            university_name_elements = row.find_elements(By.XPATH, './/span[@class=\"univ-name\"]')\n",
    "            for element in university_name_elements:\n",
    "                university_name = element.text.strip()\n",
    "                university_names.append(university_name)  # Append the university name to the list\n",
    "\n",
    "        try:\n",
    "            next_page_button = driver.find_element(By.XPATH, '//li[@title=\"下一页\"]')\n",
    "            if next_page_button.get_attribute('aria-disabled') == 'true':\n",
    "                print(\"Next Page button is not clickable. Stopping loop.\")\n",
    "                break\n",
    "            next_page_button.click()\n",
    "            wait()\n",
    "        except NoSuchElementException:\n",
    "            print(\"No more pages available.\")\n",
    "            break\n",
    "    \n",
    "    return university_names\n"
   ]
  },
  {
   "cell_type": "code",
   "execution_count": 8,
   "id": "ad58f13a",
   "metadata": {},
   "outputs": [
    {
     "name": "stdout",
     "output_type": "stream",
     "text": [
      "Next Page button is not clickable. Stopping loop.\n",
      "['Massachusetts Institute of Technology (MIT)', 'Stanford University', 'University of California, Berkeley', 'Carnegie Mellon University', 'Tsinghua University', 'Harvard University', 'ETH Zurich', 'Nanyang Technological University', 'University of Oxford', 'Princeton University', 'Columbia University', 'University of Electronic Science and Technology of China', 'National University of Singapore', 'University of California, Los Angeles', 'University of Toronto', 'Shanghai Jiao Tong University', 'University of Technology Sydney', 'Zhejiang University', 'Peking University', 'The Chinese University of Hong Kong', 'Huazhong University of Science and Technology', 'Cornell University', 'Beihang University', 'Harbin Institute of Technology', 'University of Southern California', 'Georgia Institute of Technology', 'Xidian University', 'New York University', 'University of Sydney', 'University of Oslo', 'The University of Edinburgh', 'University of Science and Technology of China', 'University of Montreal', 'City University of Hong Kong', 'The University of Texas at Austin', 'University College London', 'University of Washington', 'Imperial College London', 'Sun Yat-sen University', 'Southeast University', 'Tianjin University', 'Northwestern Polytechnical University', 'University of North Carolina at Chapel Hill', 'The Hong Kong Polytechnic University', 'Beijing University of Posts and Telecommunications', 'Wuhan University', 'The Hong Kong University of Science and Technology', 'Dalian University of Technology', 'University of Michigan-Ann Arbor', 'The University of Adelaide', 'Aalto University', 'Beijing Institute of Technology', 'Central South University', 'Johns Hopkins University', 'King Abdulaziz University', 'Nanjing University', 'Nanjing University of Science and Technology', 'National University of Defense Technology', 'Northeastern University (Shenyang)', 'Paris-Saclay University', 'Shenzhen University', 'South China University of Technology', 'Swiss Federal Institute of Technology Lausanne', 'Technical University of Munich', 'The University of New South Wales', 'University of Alberta', 'University of British Columbia', 'University of California, San Diego', 'University of Cambridge', 'University of Copenhagen', 'University of Illinois at Urbana-Champaign', 'University of Maryland, College Park', 'University of Waterloo', 'Weizmann Institute of Science', \"Xi'an Jiaotong University\", 'Arizona State University', 'Deakin University', 'Griffith University', 'Guangdong University of Technology', 'King Saud University', 'Korea Advanced Institute of Science and Technology', 'Michigan State University', 'Monash University', 'Nanjing University of Information Science & Technology', 'Purdue University - West Lafayette', 'Rutgers, The State University of New Jersey - New Brunswick', 'Sichuan University', 'Singapore University of Technology & Design', 'Swinburne University of Technology', 'Technical University of Denmark', 'The Australian National University', 'The University of Hong Kong', 'The University of Melbourne', 'Tongji University', 'Université Grenoble Alpes', 'University of Macau', 'University of Pennsylvania', 'University of Surrey', 'Virginia Polytechnic Institute and State University', 'Xiamen University', 'Beijing Jiaotong University', 'Brown University', 'Brunel University', 'China University of Geosciences (Wuhan)', 'Chongqing University', 'Delft University of Technology', 'Duke University', 'Fudan University', 'Hefei University of Technology', 'Hunan University', 'King Abdullah University of Science and Technology', \"King's College London\", 'KTH Royal Institute of Technology', 'KU Leuven', 'Lancaster University', 'McGill University', 'Nanjing University of Aeronautics and Astronautics', 'Nanjing University of Posts and Telecommunications', 'New Jersey Institute of Technology', 'Newcastle University', 'Northeastern University (Boston)', 'Northumbria University', 'Polytechnic University of Milan', 'PSL University', 'Queen Mary University of London', 'RMIT University', 'Seoul National University', 'Shandong University', 'Simon Fraser University', 'Singapore Management University', 'Temple University', 'Texas A and M University at Qatar', 'Texas A&M University', 'The Ohio State University - Columbus', 'The University of Queensland', 'The University of Texas at San Antonio', 'The University of Tokyo', 'University at Buffalo, the State University of New York', 'University of Bristol', 'University of California, Davis', 'University of California, Irvine', 'University of California, Merced', 'University of Florida', 'University of Freiburg', 'University of Granada', 'University of Iowa', 'University of Minnesota, Twin Cities', 'University of Oulu', 'University of Warwick', 'University of Wisconsin - Madison', 'Aalborg University', 'Carleton University', 'Changsha University of Science and Technology', 'Dalian Maritime University', 'De Montfort University', 'Duy Tan University', 'Eindhoven University of Technology', 'Guangzhou University', 'Hamad Bin Khalifa University-Qatar', 'Hangzhou Dianzi University', 'Hong Kong Baptist University', 'Institut Polytechnique de Paris', 'Korea University', 'Lulea University of Technology', 'Macau University of Science and Technology', 'Macquarie University', 'Nankai University', 'Northwestern University', 'Qatar University', 'Qingdao University', 'Radboud University Nijmegen', 'Sejong University', 'Shanghai University', 'Sorbonne University', 'Southern University of Science and Technology', 'Southwest University', 'St. Francis Xavier University', 'Stony Brook University', 'Technion-Israel Institute of Technology', 'Tel Aviv University', 'Thapar Institute of Engineering and Technology', 'Pennsylvania State University - University Park', 'The University of Manchester', 'University at Albany (State University of New York)', 'University of Amsterdam', 'University of Birmingham', 'University of Houston', 'University of Idaho', 'University of Illinois at Chicago', 'University of Pittsburgh', 'University of Science and Technology Beijing', 'University of Southampton', 'University of Tehran', 'University of Wollongong', 'University of Zurich', 'Vanderbilt University', 'Victoria University', 'Vienna University of Technology', 'Washington University in St. Louis', 'York University', 'Aarhus University', 'Anhui University', 'Anhui University of Technology', 'Beijing University of Technology', 'Ben-Gurion University of the Negev', 'Bohai University', 'Boston University', 'Cardiff University', 'Case Western Reserve University', 'Chalmers University of Technology', 'Chongqing University of Posts and Telecommunications', 'COMSATS University Islamabad', 'Concordia University', 'East China Normal University', 'East China University of Science and Technology', 'Ecole de Technologie Superieure - Canada', 'Florida Atlantic University', 'Fordham University', 'Fuzhou University', 'Georgia State University', 'Ghent University', 'Heidelberg University', 'Hohai University', 'Huaqiao University', 'Indiana University Bloomington', 'Karlsruhe Institute of Technology (KIT)', 'Linkoping University', 'McMaster University', 'National Taiwan University of Science and Technology', 'North Carolina State University - Raleigh', 'Norwegian University of Science and Technology - NTNU', 'Polytechnic University of Catalonia', 'Quaid-i-Azam University', \"Queen's University Belfast\", 'Queensland University of Technology', 'Qufu Normal University', 'Rensselaer Polytechnic Institute', 'RWTH Aachen University', 'Saarland University', 'Sapienza University of Rome', 'Shandong Normal University', 'Shandong University of Science and Technology', 'Southwest Jiaotong University', 'Stevens Institute of Technology', 'Swansea University', 'Tampere University', 'Technical University Darmstadt', 'Technical University of Berlin', 'The Chinese University of Hong Kong, Shenzhen', 'The University of Auckland', 'The University of Glasgow', 'The University of Sheffield', 'The University of Texas at Arlington', 'The University of Texas at Dallas', 'Ton Duc Thang University', 'Universiti Teknologi Malaysia', 'University of Calabria', 'University of California, Santa Barbara', 'University of Central Florida', 'University of Chicago', 'University of Colorado at Boulder', 'University of Essex', 'Exeter University', 'University of Fortaleza (UNIFOR)', 'University of Helsinki', 'University of Jordan', 'University of Kentucky', 'University of Leicester', 'University of Lincoln', 'University of Lisbon', 'University of Liverpool', 'University of Luxembourg', 'University of Malaya', 'University of Massachusetts Amherst', 'University of Muenster', 'University of Munich', 'University of Naples Federico II', 'University of North Carolina at Charlotte', 'University of Nottingham', 'University of Padua', 'University of Rhode Island', 'University of South Australia', 'University of South Carolina - Columbia', 'University of Trento', 'University of Twente', 'University of Utah', 'University of Virginia', 'Utrecht University', 'Vellore Institute of Technology', 'Victoria University of Wellington', 'Wenzhou University', 'Western Sydney University', 'Western University', \"Xi'an Jiaotong-Liverpool University\", 'Yale University', 'Yangzhou University', 'Yeungnam University', 'Yonsei University', 'Zagazig University', 'Zhejiang University of Technology', 'Auburn University', 'Binghamton University', 'California Institute of Technology', 'China University of Mining and Technology - Xuzhou', 'City, University of London', 'Curtin University', 'Czech Technical University in Prague', 'Dongguan University of Technology', 'Florida International University', 'Graz University of Technology', 'Guangdong University of Petrochemical Technology', 'Guilin University of Electronic Technology', 'Harbin Engineering University', 'Heriot-Watt University', 'Hunan University of Science and Technology', 'Illinois Institute of Technology', 'Iowa State University', 'Jiangsu Normal University', 'Jilin University', 'Jinan University', 'Khalifa University', 'King Fahd University of Petroleum & Minerals', 'Kyoto University', 'Kyung Hee University', 'La Trobe University', 'Leiden University', 'Liaoning University of Technology', 'Liverpool John Moores University', 'Loughborough University', 'Manchester Metropolitan University', 'Mansoura University', 'Memorial University of Newfoundland', 'Menofia University', 'Middlesex University', 'Missouri University of Science and Technology', 'National Taiwan University', 'National University of Sciences and Technology Pakistan', 'National Yang Ming Chiao Tung University', 'North China Electric Power University', 'Oklahoma State University', 'Polytechnic University of Madrid', 'Polytechnic University of Valencia', 'Pompeu Fabra University', 'Qingdao University of Science and Technology', 'Renmin University of China', 'Ryerson University', 'Sichuan Normal University', 'Soochow University (China)', 'Southwestern University of Finance and Economics', 'Sungkyunkwan University', 'SUNY New Paltz', 'Taiyuan University of Science and Technology', 'The Hebrew University of Jerusalem', 'The University of Calgary', 'The University of New Mexico - Albuquerque', 'The University of Newcastle, Australia', 'The University of Western Australia', 'Tohoku University', 'Università Della Svizzera Italiana', 'University College Dublin', 'University of Arizona', 'University of Arkansas at Fayetteville', 'University of Bergen', 'University of Bern', 'University of Bologna', 'University of Bonn', 'University of California, Riverside', 'University of California, Santa Cruz', 'University of East Anglia', 'University of Guelph', 'University of Jaen', 'University of Leeds', 'University of Liege', 'University of Manitoba', 'University of Montpellier', 'University of Nebraska - Lincoln', 'University of North Texas', 'University of Notre Dame', 'University of Oklahoma - Norman', 'University of Ottawa', 'University of Pisa', 'University of Quebec Montreal', 'University of Regina', 'University of Rochester', 'University of Salerno', 'University of Sao Paulo', 'University of Saskatchewan', 'University of Sherbrooke', 'University of South Florida', 'University of Stuttgart', 'University of Sussex', 'University of the Basque Country', 'University of Tuebingen', 'University of Victoria', 'Washington State University', 'West Virginia University', 'Wuhan University of Science and Technology', 'Wuhan University of Technology', 'Zhejiang Gongshang University', 'Zhongnan University of Economics and Law', 'Amirkabir University of Technology', 'Asia University', 'Autonomous University of Barcelona', 'Beijing Normal University', 'Beijing University of Chemical Technology', 'Cairo University', 'Carlos III University of Madrid', 'Catholic University of Louvain', 'China University of Petroleum (Huadong)', 'Clemson University', 'Cranfield University', 'Dartmouth College', 'Donghua University', 'Durham University', 'Edinburgh Napier University', 'Emory University', 'Federal University of Minas Gerais', 'Fujian Normal University', 'George Mason University', 'Henan University', 'Humboldt University of Berlin', 'Indian Institute of Technology Delhi', 'Indian Institute of Technology Kharagpur', 'ITMO University', 'Jiangnan University', 'Jiangsu University', 'Jiangxi University of Finance & Economics', 'Kyungpook National University', 'Kyushu Institute of Technology', 'Lakehead University', 'Lanzhou University', 'Laval University', 'Liaocheng University', 'Lund University', 'Massey University', 'Mayo Clinic Alix School of Medicine', 'National Institute of Technology Kurukshetra', 'National Tsing Hua University', 'Nazarbayev University', 'Nottingham Trent University', 'NOVA University Lisbon', 'Ocean University of China', 'Ontario Tech University', 'Oregon State University', 'Osaka University', 'Polytechnic University of Turin', 'Prince Sultan University', \"Queen's University\", 'Rice University', 'Rochester Institute of Technology', 'Shandong University of Finance and Economics', 'ShanghaiTech University', 'Sharif University of Technology', 'Stockholm University', 'The George Washington University', 'The University of Georgia', 'Trinity College Dublin', 'TU Dresden', 'Universidad Publica de Navarra', 'University of Aizu', 'University of Aveiro', 'University of Bath', 'University of Cagliari', 'University of Campinas', 'University of Chile', 'University of Cincinnati', 'University of Connecticut', 'University of Delaware', 'University of Duisburg-Essen', 'University of Geneva', 'University of Goettingen', 'University of Groningen', 'University of Hamburg', 'University of Jyvaskyla', 'University of Konstanz', 'University of Lille', 'University of Ljubljana', 'University of Lorraine', 'University of Malaga', 'University of Missouri - Columbia', 'University of New Brunswick', 'University of Paris', 'University of Porto', 'University of Salamanca', 'University of Seville', 'University of Shanghai for Science and Technology', 'University of Strathclyde', 'University of Tasmania', 'University of Tennessee - Knoxville', 'University of Turku', 'University of Vienna', 'University of Windsor', 'University of York', 'UOC Universitat Oberta de Catalunya', 'Uppsala University', 'Virginia Commonwealth University', 'Vrije Universiteit Brussel (VUB)', 'Wageningen University & Research', 'Zhejiang Normal University', 'Zhengzhou University']\n"
     ]
    }
   ],
   "source": [
    "back_to_first_page = driver.find_element(By.XPATH, '//li[@title=\"1\"]')\n",
    "back_to_first_page.click()\n",
    "university = extract_names(driver)\n",
    "print(university)"
   ]
  },
  {
   "cell_type": "code",
   "execution_count": 9,
   "id": "a78c1ce1",
   "metadata": {},
   "outputs": [],
   "source": [
    "def extract_cnci(driver):\n",
    "    cnci_numbers = []\n",
    "    while True:\n",
    "        rows = driver.find_elements(By.XPATH, '//tr[@data-v-ae1ab4a8=\"\"]')\n",
    "        for row in rows:\n",
    "            td_elements = row.find_elements(By.XPATH, './/td')\n",
    "            if len(td_elements) >= 5:\n",
    "                cnci_element = td_elements[4]  # Select the fifth td element (which is the cnci number)\n",
    "                cnci_number = cnci_element.text.strip()\n",
    "                cnci_numbers.append(cnci_number)  # Append the CNCI number to the list\n",
    "\n",
    "        try:\n",
    "            next_page_button = driver.find_element(By.XPATH, '//li[@title=\"下一页\"]')\n",
    "            if next_page_button.get_attribute('aria-disabled') == 'true':\n",
    "                print(\"Next Page button is not clickable. Stopping loop.\")\n",
    "                break\n",
    "            next_page_button.click()\n",
    "            wait()\n",
    "        except NoSuchElementException:\n",
    "            print(\"No more pages available.\")\n",
    "            break\n",
    "\n",
    "    return cnci_numbers\n"
   ]
  },
  {
   "cell_type": "code",
   "execution_count": 10,
   "id": "c2871bdc",
   "metadata": {},
   "outputs": [
    {
     "name": "stdout",
     "output_type": "stream",
     "text": [
      "cnci button not found\n",
      "Next Page button is not clickable. Stopping loop.\n",
      "['58.3', '53.8', '44.7', '53.8', '100.0', '57.3', '51.6', '87.5', '47.8', '36.0', '44.1', '96.9', '68.7', '39.9', '46.2', '89.6', '68.7', '88.0', '66.7', '60.4', '93.8', '36.9', '89.7', '91.4', '45.0', '54.0', '97.3', '37.8', '57.9', '33.6', '40.1', '70.1', '42.7', '78.9', '38.3', '53.9', '41.2', '55.9', '70.6', '88.2', '76.9', '77.7', '40.5', '73.4', '85.8', '78.6', '51.2', '76.6', '52.5', '45.6', '47.1', '73.1', '72.1', '38.0', '64.8', '57.3', '67.7', '72.6', '79.4', '48.3', '74.8', '75.3', '39.0', '47.4', '58.9', '49.9', '52.1', '42.2', '44.1', '25.5', '44.3', '41.5', '50.9', '14.3', '75.1', '41.4', '51.7', '33.6', '57.2', '58.3', '49.3', '42.6', '45.7', '56.8', '49.2', '38.9', '65.0', '34.5', '41.7', '32.9', '36.4', '47.4', '43.8', '64.7', '35.8', '54.4', '36.8', '42.6', '43.7', '55.1', '65.2', '21.5', '39.1', '47.1', '63.3', '46.7', '32.8', '49.6', '55.7', '63.0', '39.5', '37.0', '41.1', '41.5', '35.3', '38.6', '62.8', '64.1', '40.4', '35.2', '35.0', '32.2', '45.6', '31.7', '34.8', '46.1', '45.7', '57.7', '36.1', '33.6', '39.5', '32.6', '39.7', '37.3', '38.6', '44.1', '38.6', '37.2', '31.2', '39.8', '36.2', '21.9', '48.8', '22.3', '51.3', '25.0', '38.0', '35.7', '38.0', '37.5', '37.2', '35.5', '29.6', '42.4', '30.6', '33.6', '34.5', '45.7', '24.4', '52.0', '32.2', '39.9', '50.4', '27.0', '38.9', '32.7', '36.9', '31.0', '39.3', '36.4', '22.0', '39.6', '53.0', '40.4', '36.1', '42.9', '26.8', '35.9', '30.7', '30.5', '36.2', '35.7', '44.8', '18.5', '31.8', '32.4', '37.2', '24.8', '29.0', '37.5', '53.9', '42.0', '42.1', '38.0', '26.9', '30.7', '26.4', '34.0', '27.8', '25.2', '24.0', '43.3', '20.4', '45.0', '32.2', '31.1', '25.4', '33.8', '25.7', '30.7', '50.2', '48.9', '42.2', '41.0', '39.5', '32.3', '19.2', '22.0', '44.0', '29.0', '43.4', '24.1', '47.5', '34.4', '28.5', '27.2', '26.2', '28.0', '41.8', '35.5', '36.1', '46.3', '26.6', '29.1', '30.8', '30.4', '27.7', '32.5', '21.9', '34.6', '40.9', '45.3', '47.2', '28.8', '22.7', '33.6', '29.8', '28.7', '23.7', '33.2', '29.2', '35.2', '30.9', '33.8', '36.0', '38.0', '28.6', '26.0', '34.2', '30.8', '24.8', '30.6', '29.3', '24.2', '29.2', '21.0', '28.9', '26.2', '20.0', '39.7', '34.3', '29.7', '40.1', '27.8', '18.2', '21.1', '34.4', '28.1', '31.5', '37.4', '21.9', '26.2', '24.3', '30.5', '26.2', '31.8', '30.8', '28.7', '34.8', '24.8', '26.7', '21.6', '33.8', '26.6', '27.8', '31.7', '27.0', '44.8', '26.0', '43.2', '26.6', '22.0', '21.5', '45.3', '20.3', '26.6', '28.6', '25.9', '27.3', '22.3', '21.4', '37.3', '48.7', '23.9', '24.6', '25.2', '29.7', '18.4', '49.1', '34.8', '30.3', '30.3', '30.8', '33.8', '28.7', '26.1', '27.5', '24.9', '26.8', '22.1', '21.8', '24.4', '25.0', '22.8', '28.3', '40.0', '37.5', '44.6', '41.1', '23.1', '44.2', '42.7', '28.1', '24.2', '31.2', '33.3', '18.4', '39.6', '26.0', '35.9', '25.6', '19.0', '19.2', '30.6', '23.8', '24.3', '29.5', '23.9', '23.1', '25.7', '33.8', '20.3', '17.1', '23.4', '33.2', '24.3', '28.6', '20.3', '20.0', '19.5', '26.6', '28.4', '16.1', '23.9', '29.1', '26.6', '21.6', '30.0', '23.8', '34.9', '28.1', '28.7', '17.5', '22.0', '32.9', '44.3', '21.7', '18.0', '29.4', '28.1', '17.2', '34.6', '20.1', '31.0', '23.9', '19.6', '26.3', '41.1', '28.2', '24.1', '41.0', '20.6', '26.9', '32.2', '27.9', '26.7', '37.1', '20.4', '34.6', '25.6', '22.8', '20.8', '35.0', '20.4', '19.9', '23.3', '30.1', '30.5', '27.8', '23.0', '25.9', '31.5', '35.9', '24.6', '37.7', '36.0', '25.8', '29.3', '16.8', '19.9', '28.2', '18.9', '22.7', '22.8', '20.1', '22.1', '17.3', '34.2', '18.6', '19.5', '25.6', '30.9', '18.6', '22.8', '30.6', '36.7', '16.8', '26.1', '19.6', '20.4', '27.5', '24.2', '35.9', '19.0', '25.3', '20.9', '25.4', '24.9', '22.0', '24.1', '24.1', '19.9', '23.8', '33.6', '28.9', '23.3', '26.2', '22.8', '21.6', '20.7', '21.8', '28.5', '24.0', '20.1', '19.1', '26.6', '26.8', '30.6', '33.6', '26.2', '21.7', '23.8', '29.4', '23.6', '35.0', '33.1', '24.5', '20.6', '28.2', '20.3', '25.0', '22.8', '25.8', '18.5', '24.7', '25.0', '24.1', '19.7', '23.4', '34.1']\n"
     ]
    }
   ],
   "source": [
    "time.sleep(10)\n",
    "back_to_first_page = driver.find_element(By.XPATH, '//li[@title=\"1\"]')\n",
    "time.sleep(10)\n",
    "back_to_first_page.click()\n",
    "time.sleep(10)\n",
    "click_cnci(driver)\n",
    "time.sleep(10)\n",
    "cnci = extract_cnci(driver)\n",
    "print(cnci)\n"
   ]
  },
  {
   "cell_type": "code",
   "execution_count": 11,
   "id": "355fac26",
   "metadata": {},
   "outputs": [],
   "source": [
    "def extract_top(driver):\n",
    "    top_numbers = []\n",
    "    while True:\n",
    "        rows = driver.find_elements(By.XPATH, '//tr[@data-v-ae1ab4a8=\"\"]')\n",
    "        for row in rows:\n",
    "            td_elements = row.find_elements(By.XPATH, './/td')\n",
    "            if len(td_elements) >= 5:\n",
    "                top_element = td_elements[4]  # Select the fifth td element\n",
    "                top_number = top_element.text.strip()\n",
    "                top_numbers.append(top_number)  # Append the top number to the list\n",
    "\n",
    "        try:\n",
    "            next_page_button = driver.find_element(By.XPATH, '//li[@title=\"下一页\"]')\n",
    "            if next_page_button.get_attribute('aria-disabled') == 'true':\n",
    "                print(\"Next Page button is not clickable. Stopping loop.\")\n",
    "                break\n",
    "            next_page_button.click()\n",
    "            wait()\n",
    "        except NoSuchElementException:\n",
    "            print(\"No more pages available.\")\n",
    "            break\n",
    "\n",
    "    return top_numbers\n"
   ]
  },
  {
   "cell_type": "code",
   "execution_count": 12,
   "id": "5d1d0535",
   "metadata": {},
   "outputs": [
    {
     "name": "stdout",
     "output_type": "stream",
     "text": [
      "top button not found\n",
      "Next Page button is not clickable. Stopping loop.\n",
      "['58.3', '53.8', '44.7', '53.8', '100.0', '57.3', '51.6', '87.5', '47.8', '36.0', '44.1', '96.9', '68.7', '39.9', '46.2', '89.6', '68.7', '88.0', '66.7', '60.4', '93.8', '36.9', '89.7', '91.4', '45.0', '54.0', '97.3', '37.8', '57.9', '33.6', '40.1', '70.1', '42.7', '78.9', '38.3', '53.9', '41.2', '55.9', '70.6', '88.2', '76.9', '77.7', '40.5', '73.4', '85.8', '78.6', '51.2', '76.6', '52.5', '45.6', '47.1', '73.1', '72.1', '38.0', '64.8', '57.3', '67.7', '72.6', '79.4', '48.3', '74.8', '75.3', '39.0', '47.4', '58.9', '49.9', '52.1', '42.2', '44.1', '25.5', '44.3', '41.5', '50.9', '14.3', '75.1', '41.4', '51.7', '33.6', '57.2', '58.3', '49.3', '42.6', '45.7', '56.8', '49.2', '38.9', '65.0', '34.5', '41.7', '32.9', '36.4', '47.4', '43.8', '64.7', '35.8', '54.4', '36.8', '42.6', '43.7', '55.1', '65.2', '21.5', '39.1', '47.1', '63.3', '46.7', '32.8', '49.6', '55.7', '63.0', '39.5', '37.0', '41.1', '41.5', '35.3', '38.6', '62.8', '64.1', '40.4', '35.2', '35.0', '32.2', '45.6', '31.7', '34.8', '46.1', '45.7', '57.7', '36.1', '33.6', '39.5', '32.6', '39.7', '37.3', '38.6', '44.1', '38.6', '37.2', '31.2', '39.8', '36.2', '21.9', '48.8', '22.3', '51.3', '25.0', '38.0', '35.7', '38.0', '37.5', '37.2', '35.5', '29.6', '42.4', '30.6', '33.6', '34.5', '45.7', '24.4', '52.0', '32.2', '39.9', '50.4', '27.0', '38.9', '32.7', '36.9', '31.0', '39.3', '36.4', '22.0', '39.6', '53.0', '40.4', '36.1', '42.9', '26.8', '35.9', '30.7', '30.5', '36.2', '35.7', '44.8', '18.5', '31.8', '32.4', '37.2', '24.8', '29.0', '37.5', '53.9', '42.0', '42.1', '38.0', '26.9', '30.7', '26.4', '34.0', '27.8', '25.2', '24.0', '43.3', '20.4', '45.0', '32.2', '31.1', '25.4', '33.8', '25.7', '30.7', '50.2', '48.9', '42.2', '41.0', '39.5', '32.3', '19.2', '22.0', '44.0', '29.0', '43.4', '24.1', '47.5', '34.4', '28.5', '27.2', '26.2', '28.0', '41.8', '35.5', '36.1', '46.3', '26.6', '29.1', '30.8', '30.4', '27.7', '32.5', '21.9', '34.6', '40.9', '45.3', '47.2', '28.8', '22.7', '33.6', '29.8', '28.7', '23.7', '33.2', '29.2', '35.2', '30.9', '33.8', '36.0', '38.0', '28.6', '26.0', '34.2', '30.8', '24.8', '30.6', '29.3', '24.2', '29.2', '21.0', '28.9', '26.2', '20.0', '39.7', '34.3', '29.7', '40.1', '27.8', '18.2', '21.1', '34.4', '28.1', '31.5', '37.4', '21.9', '26.2', '24.3', '30.5', '26.2', '31.8', '30.8', '28.7', '34.8', '24.8', '26.7', '21.6', '33.8', '26.6', '27.8', '31.7', '27.0', '44.8', '26.0', '43.2', '26.6', '22.0', '21.5', '45.3', '20.3', '26.6', '28.6', '25.9', '27.3', '22.3', '21.4', '37.3', '48.7', '23.9', '24.6', '25.2', '29.7', '18.4', '49.1', '34.8', '30.3', '30.3', '30.8', '33.8', '28.7', '26.1', '27.5', '24.9', '26.8', '22.1', '21.8', '24.4', '25.0', '22.8', '28.3', '40.0', '37.5', '44.6', '41.1', '23.1', '44.2', '42.7', '28.1', '24.2', '31.2', '33.3', '18.4', '39.6', '26.0', '35.9', '25.6', '19.0', '19.2', '30.6', '23.8', '24.3', '29.5', '23.9', '23.1', '25.7', '33.8', '20.3', '17.1', '23.4', '33.2', '24.3', '28.6', '20.3', '20.0', '19.5', '26.6', '28.4', '16.1', '23.9', '29.1', '26.6', '21.6', '30.0', '23.8', '34.9', '28.1', '28.7', '17.5', '22.0', '32.9', '44.3', '21.7', '18.0', '29.4', '28.1', '17.2', '34.6', '20.1', '31.0', '23.9', '19.6', '26.3', '41.1', '28.2', '24.1', '41.0', '20.6', '26.9', '32.2', '27.9', '26.7', '37.1', '20.4', '34.6', '25.6', '22.8', '20.8', '35.0', '20.4', '19.9', '23.3', '30.1', '30.5', '27.8', '23.0', '25.9', '31.5', '35.9', '24.6', '37.7', '36.0', '25.8', '29.3', '16.8', '19.9', '28.2', '18.9', '22.7', '22.8', '20.1', '22.1', '17.3', '34.2', '18.6', '19.5', '25.6', '30.9', '18.6', '22.8', '30.6', '36.7', '16.8', '26.1', '19.6', '20.4', '27.5', '24.2', '35.9', '19.0', '25.3', '20.9', '25.4', '24.9', '22.0', '24.1', '24.1', '19.9', '23.8', '33.6', '28.9', '23.3', '26.2', '22.8', '21.6', '20.7', '21.8', '28.5', '24.0', '20.1', '19.1', '26.6', '26.8', '30.6', '33.6', '26.2', '21.7', '23.8', '29.4', '23.6', '35.0', '33.1', '24.5', '20.6', '28.2', '20.3', '25.0', '22.8', '25.8', '18.5', '24.7', '25.0', '24.1', '19.7', '23.4', '34.1']\n"
     ]
    }
   ],
   "source": [
    "time.sleep(10)\n",
    "back_to_first_page = driver.find_element(By.XPATH, '//li[@title=\"1\"]')\n",
    "time.sleep(10)\n",
    "back_to_first_page.click()\n",
    "time.sleep(10)\n",
    "click_top(driver)\n",
    "time.sleep(10)\n",
    "top = extract_top(driver)\n",
    "print(top)"
   ]
  },
  {
   "cell_type": "code",
   "execution_count": 13,
   "id": "171f7344",
   "metadata": {},
   "outputs": [],
   "source": [
    "def extract_award(driver):\n",
    "    award_numbers = []\n",
    "    while True:\n",
    "        rows = driver.find_elements(By.XPATH, '//tr[@data-v-ae1ab4a8=\"\"]')\n",
    "        for row in rows:\n",
    "            td_elements = row.find_elements(By.XPATH, './/td')\n",
    "            if len(td_elements) >= 5:\n",
    "                award_element = td_elements[4]  # Select the fifth td element\n",
    "                award_number = award_element.text.strip()\n",
    "                award_numbers.append(award_number)  # Append the award number to the list\n",
    "\n",
    "        try:\n",
    "            next_page_button = driver.find_element(By.XPATH, '//li[@title=\"下一页\"]')\n",
    "            if next_page_button.get_attribute('aria-disabled') == 'true':\n",
    "                print(\"Next Page button is not clickable. Stopping loop.\")\n",
    "                break\n",
    "            next_page_button.click()\n",
    "            wait()\n",
    "        except NoSuchElementException:\n",
    "            print(\"No more pages available.\")\n",
    "            break\n",
    "\n",
    "    return award_numbers\n"
   ]
  },
  {
   "cell_type": "code",
   "execution_count": 14,
   "id": "76334f35",
   "metadata": {},
   "outputs": [
    {
     "name": "stdout",
     "output_type": "stream",
     "text": [
      "award button not found\n",
      "Next Page button is not clickable. Stopping loop.\n",
      "['58.3', '53.8', '44.7', '53.8', '100.0', '57.3', '51.6', '87.5', '47.8', '36.0', '44.1', '96.9', '68.7', '39.9', '46.2', '89.6', '68.7', '88.0', '66.7', '60.4', '93.8', '36.9', '89.7', '91.4', '45.0', '54.0', '97.3', '37.8', '57.9', '33.6', '40.1', '70.1', '42.7', '78.9', '38.3', '53.9', '41.2', '55.9', '70.6', '88.2', '76.9', '77.7', '40.5', '73.4', '85.8', '78.6', '51.2', '76.6', '52.5', '45.6', '47.1', '73.1', '72.1', '38.0', '64.8', '57.3', '67.7', '72.6', '79.4', '48.3', '74.8', '75.3', '39.0', '47.4', '58.9', '49.9', '52.1', '42.2', '44.1', '25.5', '44.3', '41.5', '50.9', '14.3', '75.1', '41.4', '51.7', '33.6', '57.2', '58.3', '49.3', '42.6', '45.7', '56.8', '49.2', '38.9', '65.0', '34.5', '41.7', '32.9', '36.4', '47.4', '43.8', '64.7', '35.8', '54.4', '36.8', '42.6', '43.7', '55.1', '65.2', '21.5', '39.1', '47.1', '63.3', '46.7', '32.8', '49.6', '55.7', '63.0', '39.5', '37.0', '41.1', '41.5', '35.3', '38.6', '62.8', '64.1', '40.4', '35.2', '35.0', '32.2', '45.6', '31.7', '34.8', '46.1', '45.7', '57.7', '36.1', '33.6', '39.5', '32.6', '39.7', '37.3', '38.6', '44.1', '38.6', '37.2', '31.2', '39.8', '36.2', '21.9', '48.8', '22.3', '51.3', '25.0', '38.0', '35.7', '38.0', '37.5', '37.2', '35.5', '29.6', '42.4', '30.6', '33.6', '34.5', '45.7', '24.4', '52.0', '32.2', '39.9', '50.4', '27.0', '38.9', '32.7', '36.9', '31.0', '39.3', '36.4', '22.0', '39.6', '53.0', '40.4', '36.1', '42.9', '26.8', '35.9', '30.7', '30.5', '36.2', '35.7', '44.8', '18.5', '31.8', '32.4', '37.2', '24.8', '29.0', '37.5', '53.9', '42.0', '42.1', '38.0', '26.9', '30.7', '26.4', '34.0', '27.8', '25.2', '24.0', '43.3', '20.4', '45.0', '32.2', '31.1', '25.4', '33.8', '25.7', '30.7', '50.2', '48.9', '42.2', '41.0', '39.5', '32.3', '19.2', '22.0', '44.0', '29.0', '43.4', '24.1', '47.5', '34.4', '28.5', '27.2', '26.2', '28.0', '41.8', '35.5', '36.1', '46.3', '26.6', '29.1', '30.8', '30.4', '27.7', '32.5', '21.9', '34.6', '40.9', '45.3', '47.2', '28.8', '22.7', '33.6', '29.8', '28.7', '23.7', '33.2', '29.2', '35.2', '30.9', '33.8', '36.0', '38.0', '28.6', '26.0', '34.2', '30.8', '24.8', '30.6', '29.3', '24.2', '29.2', '21.0', '28.9', '26.2', '20.0', '39.7', '34.3', '29.7', '40.1', '27.8', '18.2', '21.1', '34.4', '28.1', '31.5', '37.4', '21.9', '26.2', '24.3', '30.5', '26.2', '31.8', '30.8', '28.7', '34.8', '24.8', '26.7', '21.6', '33.8', '26.6', '27.8', '31.7', '27.0', '44.8', '26.0', '43.2', '26.6', '22.0', '21.5', '45.3', '20.3', '26.6', '28.6', '25.9', '27.3', '22.3', '21.4', '37.3', '48.7', '23.9', '24.6', '25.2', '29.7', '18.4', '49.1', '34.8', '30.3', '30.3', '30.8', '33.8', '28.7', '26.1', '27.5', '24.9', '26.8', '22.1', '21.8', '24.4', '25.0', '22.8', '28.3', '40.0', '37.5', '44.6', '41.1', '23.1', '44.2', '42.7', '28.1', '24.2', '31.2', '33.3', '18.4', '39.6', '26.0', '35.9', '25.6', '19.0', '19.2', '30.6', '23.8', '24.3', '29.5', '23.9', '23.1', '25.7', '33.8', '20.3', '17.1', '23.4', '33.2', '24.3', '28.6', '20.3', '20.0', '19.5', '26.6', '28.4', '16.1', '23.9', '29.1', '26.6', '21.6', '30.0', '23.8', '34.9', '28.1', '28.7', '17.5', '22.0', '32.9', '44.3', '21.7', '18.0', '29.4', '28.1', '17.2', '34.6', '20.1', '31.0', '23.9', '19.6', '26.3', '41.1', '28.2', '24.1', '41.0', '20.6', '26.9', '32.2', '27.9', '26.7', '37.1', '20.4', '34.6', '25.6', '22.8', '20.8', '35.0', '20.4', '19.9', '23.3', '30.1', '30.5', '27.8', '23.0', '25.9', '31.5', '35.9', '24.6', '37.7', '36.0', '25.8', '29.3', '16.8', '19.9', '28.2', '18.9', '22.7', '22.8', '20.1', '22.1', '17.3', '34.2', '18.6', '19.5', '25.6', '30.9', '18.6', '22.8', '30.6', '36.7', '16.8', '26.1', '19.6', '20.4', '27.5', '24.2', '35.9', '19.0', '25.3', '20.9', '25.4', '24.9', '22.0', '24.1', '24.1', '19.9', '23.8', '33.6', '28.9', '23.3', '26.2', '22.8', '21.6', '20.7', '21.8', '28.5', '24.0', '20.1', '19.1', '26.6', '26.8', '30.6', '33.6', '26.2', '21.7', '23.8', '29.4', '23.6', '35.0', '33.1', '24.5', '20.6', '28.2', '20.3', '25.0', '22.8', '25.8', '18.5', '24.7', '25.0', '24.1', '19.7', '23.4', '34.1']\n"
     ]
    }
   ],
   "source": [
    "time.sleep(10)\n",
    "back_to_first_page = driver.find_element(By.XPATH, '//li[@title=\"1\"]')\n",
    "time.sleep(10)\n",
    "back_to_first_page.click()\n",
    "time.sleep(10)\n",
    "click_award(driver)\n",
    "time.sleep(10)\n",
    "award = extract_award(driver)\n",
    "print(award)"
   ]
  },
  {
   "cell_type": "code",
   "execution_count": 15,
   "id": "fcc4d763",
   "metadata": {},
   "outputs": [
    {
     "name": "stdout",
     "output_type": "stream",
     "text": [
      "        Rank                                         Name   CNCI    TOP  AWARD\n",
      "0          1  Massachusetts Institute of Technology (MIT)   58.3   58.3   58.3\n",
      "1          2                          Stanford University   53.8   53.8   53.8\n",
      "2          3           University of California, Berkeley   44.7   44.7   44.7\n",
      "3          4                   Carnegie Mellon University   53.8   53.8   53.8\n",
      "4          5                          Tsinghua University  100.0  100.0  100.0\n",
      "..       ...                                          ...    ...    ...    ...\n",
      "495  401-500             Virginia Commonwealth University   25.0   25.0   25.0\n",
      "496  401-500             Vrije Universiteit Brussel (VUB)   24.1   24.1   24.1\n",
      "497  401-500             Wageningen University & Research   19.7   19.7   19.7\n",
      "498  401-500                   Zhejiang Normal University   23.4   23.4   23.4\n",
      "499  401-500                         Zhengzhou University   34.1   34.1   34.1\n",
      "\n",
      "[500 rows x 5 columns]\n"
     ]
    },
    {
     "name": "stderr",
     "output_type": "stream",
     "text": [
      "/var/folders/dm/kpj1j23n1gg9krf4pgh_jlxw0000gn/T/ipykernel_76165/2163332600.py:10: FutureWarning: The frame.append method is deprecated and will be removed from pandas in a future version. Use pandas.concat instead.\n",
      "  df = df.append(pd.DataFrame(data), ignore_index=True)\n"
     ]
    }
   ],
   "source": [
    "data = {\n",
    "    \"Rank\": rank,\n",
    "    \"Name\": university,\n",
    "    \"CNCI\": cnci,\n",
    "    \"TOP\": top,\n",
    "    \"AWARD\": award\n",
    "}\n",
    "\n",
    "# Append the data to the DataFrame\n",
    "df = df.append(pd.DataFrame(data), ignore_index=True)\n",
    "\n",
    "# Print the DataFrame\n",
    "print(df)\n",
    "df.to_excel('shanghai.xlsx', index=False)"
   ]
  },
  {
   "cell_type": "code",
   "execution_count": null,
   "id": "fc59a9d7",
   "metadata": {},
   "outputs": [],
   "source": []
  }
 ],
 "metadata": {
  "kernelspec": {
   "display_name": "Python 3 (ipykernel)",
   "language": "python",
   "name": "python3"
  },
  "language_info": {
   "codemirror_mode": {
    "name": "ipython",
    "version": 3
   },
   "file_extension": ".py",
   "mimetype": "text/x-python",
   "name": "python",
   "nbconvert_exporter": "python",
   "pygments_lexer": "ipython3",
   "version": "3.10.8"
  }
 },
 "nbformat": 4,
 "nbformat_minor": 5
}
